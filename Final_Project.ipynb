{
  "nbformat": 4,
  "nbformat_minor": 0,
  "metadata": {
    "colab": {
      "name": "Final Project.ipynb",
      "provenance": [],
      "collapsed_sections": []
    },
    "kernelspec": {
      "name": "python3",
      "display_name": "Python 3"
    }
  },
  "cells": [
    {
      "cell_type": "markdown",
      "metadata": {
        "id": "RG5CcEWYUGCL",
        "colab_type": "text"
      },
      "source": [
        "**How does the season impact wait times?**"
      ]
    },
    {
      "cell_type": "code",
      "metadata": {
        "id": "DuKALTGaTher",
        "colab_type": "code",
        "colab": {}
      },
      "source": [
        "# We import everything we think we might need\n",
        "\n",
        "import pandas as pd\n",
        "import numpy as np\n",
        "import seaborn as sns\n",
        "import scipy.stats as st\n",
        "import matplotlib.pyplot as plt\n",
        "from google.colab import files\n",
        "import warnings\n",
        "warnings.filterwarnings(\"ignore\")"
      ],
      "execution_count": 0,
      "outputs": []
    },
    {
      "cell_type": "code",
      "metadata": {
        "id": "tzmfncm_ToV9",
        "colab_type": "code",
        "colab": {}
      },
      "source": [
        "# Load the Drive helper and mount\n",
        "from google.colab import drive\n",
        "\n",
        "# This will prompt for authorization.\n",
        "drive.mount('/content/drive')"
      ],
      "execution_count": 0,
      "outputs": []
    },
    {
      "cell_type": "code",
      "metadata": {
        "id": "igkleO_RTqpS",
        "colab_type": "code",
        "colab": {}
      },
      "source": [
        "# This is where my data is located on my drive\n",
        "path = '/content/drive/My Drive/Data Science/Disney Data 2018/'\n",
        "# path = '/content/drive/My Drive/Disney Data 2018/'"
      ],
      "execution_count": 0,
      "outputs": []
    },
    {
      "cell_type": "code",
      "metadata": {
        "id": "zTullxfLT0ab",
        "colab_type": "code",
        "colab": {}
      },
      "source": [
        "file = pd.read_csv(open(path + 'metadata_day_info.csv'))"
      ],
      "execution_count": 0,
      "outputs": []
    },
    {
      "cell_type": "code",
      "metadata": {
        "id": "NU780e6CUicR",
        "colab_type": "code",
        "colab": {}
      },
      "source": [
        "#trimming metadata\n",
        "data = file[['DATE', 'DAYOFWEEK', 'MONTHOFYEAR', 'YEAR', 'SEASON', 'WDWSEASON']]"
      ],
      "execution_count": 0,
      "outputs": []
    },
    {
      "cell_type": "code",
      "metadata": {
        "id": "wWor4ysoVQMp",
        "colab_type": "code",
        "outputId": "6b66c16c-6d9a-4f8c-8e98-7f1afdf4c202",
        "colab": {
          "base_uri": "https://localhost:8080/",
          "height": 204
        }
      },
      "source": [
        "data['WDWSEASON'] = data['WDWSEASON'].str.replace('MARTIN LUTHER KING JUNIOR DAY','M.L.K. DAY')\n",
        "data.head()"
      ],
      "execution_count": 0,
      "outputs": [
        {
          "output_type": "execute_result",
          "data": {
            "text/html": [
              "<div>\n",
              "<style scoped>\n",
              "    .dataframe tbody tr th:only-of-type {\n",
              "        vertical-align: middle;\n",
              "    }\n",
              "\n",
              "    .dataframe tbody tr th {\n",
              "        vertical-align: top;\n",
              "    }\n",
              "\n",
              "    .dataframe thead th {\n",
              "        text-align: right;\n",
              "    }\n",
              "</style>\n",
              "<table border=\"1\" class=\"dataframe\">\n",
              "  <thead>\n",
              "    <tr style=\"text-align: right;\">\n",
              "      <th></th>\n",
              "      <th>DATE</th>\n",
              "      <th>DAYOFWEEK</th>\n",
              "      <th>MONTHOFYEAR</th>\n",
              "      <th>YEAR</th>\n",
              "      <th>SEASON</th>\n",
              "      <th>WDWSEASON</th>\n",
              "    </tr>\n",
              "  </thead>\n",
              "  <tbody>\n",
              "    <tr>\n",
              "      <th>0</th>\n",
              "      <td>01/01/2012</td>\n",
              "      <td>1</td>\n",
              "      <td>1</td>\n",
              "      <td>2012</td>\n",
              "      <td>CHRISTMAS PEAK</td>\n",
              "      <td>CHRISTMAS PEAK</td>\n",
              "    </tr>\n",
              "    <tr>\n",
              "      <th>1</th>\n",
              "      <td>01/02/2012</td>\n",
              "      <td>2</td>\n",
              "      <td>1</td>\n",
              "      <td>2012</td>\n",
              "      <td>CHRISTMAS</td>\n",
              "      <td>CHRISTMAS</td>\n",
              "    </tr>\n",
              "    <tr>\n",
              "      <th>2</th>\n",
              "      <td>01/03/2012</td>\n",
              "      <td>3</td>\n",
              "      <td>1</td>\n",
              "      <td>2012</td>\n",
              "      <td>CHRISTMAS</td>\n",
              "      <td>CHRISTMAS</td>\n",
              "    </tr>\n",
              "    <tr>\n",
              "      <th>3</th>\n",
              "      <td>01/04/2012</td>\n",
              "      <td>4</td>\n",
              "      <td>1</td>\n",
              "      <td>2012</td>\n",
              "      <td>CHRISTMAS</td>\n",
              "      <td>CHRISTMAS</td>\n",
              "    </tr>\n",
              "    <tr>\n",
              "      <th>4</th>\n",
              "      <td>01/05/2012</td>\n",
              "      <td>5</td>\n",
              "      <td>1</td>\n",
              "      <td>2012</td>\n",
              "      <td>CHRISTMAS</td>\n",
              "      <td>CHRISTMAS</td>\n",
              "    </tr>\n",
              "  </tbody>\n",
              "</table>\n",
              "</div>"
            ],
            "text/plain": [
              "         DATE  DAYOFWEEK  MONTHOFYEAR  YEAR          SEASON       WDWSEASON\n",
              "0  01/01/2012          1            1  2012  CHRISTMAS PEAK  CHRISTMAS PEAK\n",
              "1  01/02/2012          2            1  2012       CHRISTMAS       CHRISTMAS\n",
              "2  01/03/2012          3            1  2012       CHRISTMAS       CHRISTMAS\n",
              "3  01/04/2012          4            1  2012       CHRISTMAS       CHRISTMAS\n",
              "4  01/05/2012          5            1  2012       CHRISTMAS       CHRISTMAS"
            ]
          },
          "metadata": {
            "tags": []
          },
          "execution_count": 8
        }
      ]
    },
    {
      "cell_type": "code",
      "metadata": {
        "id": "piMFqhESWMb2",
        "colab_type": "code",
        "colab": {}
      },
      "source": [
        "#renaming metadata columns\n",
        "data.columns = ['date', 'Day of Week', 'Month', 'Year', 'Season', 'Disney Season']\n",
        "\n",
        "data = data.set_index('date')"
      ],
      "execution_count": 0,
      "outputs": []
    },
    {
      "cell_type": "code",
      "metadata": {
        "id": "T-MMSgYqWsaN",
        "colab_type": "code",
        "outputId": "b1c1505f-83ee-4fb3-a999-57c6a98ae59c",
        "colab": {
          "base_uri": "https://localhost:8080/",
          "height": 483
        }
      },
      "source": [
        "data.iloc[7:20]"
      ],
      "execution_count": 0,
      "outputs": [
        {
          "output_type": "execute_result",
          "data": {
            "text/html": [
              "<div>\n",
              "<style scoped>\n",
              "    .dataframe tbody tr th:only-of-type {\n",
              "        vertical-align: middle;\n",
              "    }\n",
              "\n",
              "    .dataframe tbody tr th {\n",
              "        vertical-align: top;\n",
              "    }\n",
              "\n",
              "    .dataframe thead th {\n",
              "        text-align: right;\n",
              "    }\n",
              "</style>\n",
              "<table border=\"1\" class=\"dataframe\">\n",
              "  <thead>\n",
              "    <tr style=\"text-align: right;\">\n",
              "      <th></th>\n",
              "      <th>Day of Week</th>\n",
              "      <th>Month</th>\n",
              "      <th>Year</th>\n",
              "      <th>Season</th>\n",
              "      <th>Disney Season</th>\n",
              "    </tr>\n",
              "    <tr>\n",
              "      <th>date</th>\n",
              "      <th></th>\n",
              "      <th></th>\n",
              "      <th></th>\n",
              "      <th></th>\n",
              "      <th></th>\n",
              "    </tr>\n",
              "  </thead>\n",
              "  <tbody>\n",
              "    <tr>\n",
              "      <th>01/08/2012</th>\n",
              "      <td>1</td>\n",
              "      <td>1</td>\n",
              "      <td>2012</td>\n",
              "      <td>CHRISTMAS</td>\n",
              "      <td>CHRISTMAS</td>\n",
              "    </tr>\n",
              "    <tr>\n",
              "      <th>01/09/2012</th>\n",
              "      <td>2</td>\n",
              "      <td>1</td>\n",
              "      <td>2012</td>\n",
              "      <td>CHRISTMAS</td>\n",
              "      <td>CHRISTMAS</td>\n",
              "    </tr>\n",
              "    <tr>\n",
              "      <th>01/10/2012</th>\n",
              "      <td>3</td>\n",
              "      <td>1</td>\n",
              "      <td>2012</td>\n",
              "      <td>WINTER</td>\n",
              "      <td>WINTER</td>\n",
              "    </tr>\n",
              "    <tr>\n",
              "      <th>01/11/2012</th>\n",
              "      <td>4</td>\n",
              "      <td>1</td>\n",
              "      <td>2012</td>\n",
              "      <td>WINTER</td>\n",
              "      <td>WINTER</td>\n",
              "    </tr>\n",
              "    <tr>\n",
              "      <th>01/12/2012</th>\n",
              "      <td>5</td>\n",
              "      <td>1</td>\n",
              "      <td>2012</td>\n",
              "      <td>MARTIN LUTHER KING JUNIOR DAY</td>\n",
              "      <td>M.L.K. DAY</td>\n",
              "    </tr>\n",
              "    <tr>\n",
              "      <th>01/13/2012</th>\n",
              "      <td>6</td>\n",
              "      <td>1</td>\n",
              "      <td>2012</td>\n",
              "      <td>MARTIN LUTHER KING JUNIOR DAY</td>\n",
              "      <td>M.L.K. DAY</td>\n",
              "    </tr>\n",
              "    <tr>\n",
              "      <th>01/14/2012</th>\n",
              "      <td>7</td>\n",
              "      <td>1</td>\n",
              "      <td>2012</td>\n",
              "      <td>MARTIN LUTHER KING JUNIOR DAY</td>\n",
              "      <td>M.L.K. DAY</td>\n",
              "    </tr>\n",
              "    <tr>\n",
              "      <th>01/15/2012</th>\n",
              "      <td>1</td>\n",
              "      <td>1</td>\n",
              "      <td>2012</td>\n",
              "      <td>MARTIN LUTHER KING JUNIOR DAY</td>\n",
              "      <td>M.L.K. DAY</td>\n",
              "    </tr>\n",
              "    <tr>\n",
              "      <th>01/16/2012</th>\n",
              "      <td>2</td>\n",
              "      <td>1</td>\n",
              "      <td>2012</td>\n",
              "      <td>MARTIN LUTHER KING JUNIOR DAY</td>\n",
              "      <td>M.L.K. DAY</td>\n",
              "    </tr>\n",
              "    <tr>\n",
              "      <th>01/17/2012</th>\n",
              "      <td>3</td>\n",
              "      <td>1</td>\n",
              "      <td>2012</td>\n",
              "      <td>MARTIN LUTHER KING JUNIOR DAY</td>\n",
              "      <td>M.L.K. DAY</td>\n",
              "    </tr>\n",
              "    <tr>\n",
              "      <th>01/18/2012</th>\n",
              "      <td>4</td>\n",
              "      <td>1</td>\n",
              "      <td>2012</td>\n",
              "      <td>MARTIN LUTHER KING JUNIOR DAY</td>\n",
              "      <td>M.L.K. DAY</td>\n",
              "    </tr>\n",
              "    <tr>\n",
              "      <th>01/19/2012</th>\n",
              "      <td>5</td>\n",
              "      <td>1</td>\n",
              "      <td>2012</td>\n",
              "      <td>MARTIN LUTHER KING JUNIOR DAY</td>\n",
              "      <td>M.L.K. DAY</td>\n",
              "    </tr>\n",
              "    <tr>\n",
              "      <th>01/20/2012</th>\n",
              "      <td>6</td>\n",
              "      <td>1</td>\n",
              "      <td>2012</td>\n",
              "      <td>MARTIN LUTHER KING JUNIOR DAY</td>\n",
              "      <td>M.L.K. DAY</td>\n",
              "    </tr>\n",
              "  </tbody>\n",
              "</table>\n",
              "</div>"
            ],
            "text/plain": [
              "            Day of Week  Month  ...                         Season Disney Season\n",
              "date                            ...                                             \n",
              "01/08/2012            1      1  ...                      CHRISTMAS     CHRISTMAS\n",
              "01/09/2012            2      1  ...                      CHRISTMAS     CHRISTMAS\n",
              "01/10/2012            3      1  ...                         WINTER        WINTER\n",
              "01/11/2012            4      1  ...                         WINTER        WINTER\n",
              "01/12/2012            5      1  ...  MARTIN LUTHER KING JUNIOR DAY    M.L.K. DAY\n",
              "01/13/2012            6      1  ...  MARTIN LUTHER KING JUNIOR DAY    M.L.K. DAY\n",
              "01/14/2012            7      1  ...  MARTIN LUTHER KING JUNIOR DAY    M.L.K. DAY\n",
              "01/15/2012            1      1  ...  MARTIN LUTHER KING JUNIOR DAY    M.L.K. DAY\n",
              "01/16/2012            2      1  ...  MARTIN LUTHER KING JUNIOR DAY    M.L.K. DAY\n",
              "01/17/2012            3      1  ...  MARTIN LUTHER KING JUNIOR DAY    M.L.K. DAY\n",
              "01/18/2012            4      1  ...  MARTIN LUTHER KING JUNIOR DAY    M.L.K. DAY\n",
              "01/19/2012            5      1  ...  MARTIN LUTHER KING JUNIOR DAY    M.L.K. DAY\n",
              "01/20/2012            6      1  ...  MARTIN LUTHER KING JUNIOR DAY    M.L.K. DAY\n",
              "\n",
              "[13 rows x 5 columns]"
            ]
          },
          "metadata": {
            "tags": []
          },
          "execution_count": 10
        }
      ]
    },
    {
      "cell_type": "code",
      "metadata": {
        "id": "bMbLGf-rWtn-",
        "colab_type": "code",
        "outputId": "ababbe95-973b-4183-f9d6-1a6e61e6c3f4",
        "colab": {
          "base_uri": "https://localhost:8080/",
          "height": 34
        }
      },
      "source": [
        "data.shape"
      ],
      "execution_count": 0,
      "outputs": [
        {
          "output_type": "execute_result",
          "data": {
            "text/plain": [
              "(2493, 5)"
            ]
          },
          "metadata": {
            "tags": []
          },
          "execution_count": 11
        }
      ]
    },
    {
      "cell_type": "markdown",
      "metadata": {
        "id": "yzMm5WoNMG7q",
        "colab_type": "text"
      },
      "source": [
        "# Importing Ride **Data**"
      ]
    },
    {
      "cell_type": "code",
      "metadata": {
        "id": "KXzJSA0vWzuG",
        "colab_type": "code",
        "colab": {}
      },
      "source": [
        "# Magic Kingdom \n",
        "ride1 = pd.read_csv(open(path + 'ride_toystory.csv'))\n",
        "ride1 = ride1[ ride1['SPOSTMIN'] >= 0]\n",
        "ride1 = ride1.drop(columns=['datetime', 'SACTMIN'])\n",
        "ride1 = ride1.groupby(['date']).mean()\n",
        "ride1.columns = ['Toy Posted Wait']\n",
        "\n",
        "# Epcot\n",
        "ride2 = pd.read_csv(open(path + 'ride_soarin.csv'))\n",
        "ride2 = ride2[ ride2['SPOSTMIN'] >= 0]\n",
        "ride2 = ride2.drop(columns=['datetime', 'SACTMIN'])\n",
        "ride2 = ride2.groupby(['date']).mean()\n",
        "ride2.columns = ['Soarin Posted Wait']\n",
        "\n",
        "# Hollywood Studios\n",
        "ride3 = pd.read_csv(open(path + 'ride_rockincoaster.csv'))\n",
        "ride3 = ride3[ ride3['SPOSTMIN'] >= 0]\n",
        "ride3 = ride3.drop(columns=['datetime', 'SACTMIN'])\n",
        "ride3 = ride3.groupby(['date']).mean()\n",
        "ride3.columns = ['Rockin Posted Wait']\n",
        "\n",
        "# Animal Kingdom\n",
        "ride4 = pd.read_csv(open(path + 'ride_expeditioneverest.csv'))\n",
        "ride4 = ride4[ ride4['SPOSTMIN'] >= 0]\n",
        "ride4 = ride4.drop(columns=['datetime', 'SACTMIN'])\n",
        "ride4 = ride4.groupby(['date']).mean()\n",
        "ride4.columns = ['Everest Posted Wait']\n"
      ],
      "execution_count": 0,
      "outputs": []
    },
    {
      "cell_type": "code",
      "metadata": {
        "id": "SYsfo7Eb8sBe",
        "colab_type": "code",
        "outputId": "c0f73374-a4ad-4361-dbe3-b253182fc106",
        "colab": {
          "base_uri": "https://localhost:8080/",
          "height": 235
        }
      },
      "source": [
        "ride1.head()"
      ],
      "execution_count": 0,
      "outputs": [
        {
          "output_type": "execute_result",
          "data": {
            "text/html": [
              "<div>\n",
              "<style scoped>\n",
              "    .dataframe tbody tr th:only-of-type {\n",
              "        vertical-align: middle;\n",
              "    }\n",
              "\n",
              "    .dataframe tbody tr th {\n",
              "        vertical-align: top;\n",
              "    }\n",
              "\n",
              "    .dataframe thead th {\n",
              "        text-align: right;\n",
              "    }\n",
              "</style>\n",
              "<table border=\"1\" class=\"dataframe\">\n",
              "  <thead>\n",
              "    <tr style=\"text-align: right;\">\n",
              "      <th></th>\n",
              "      <th>Toy Posted Wait</th>\n",
              "    </tr>\n",
              "    <tr>\n",
              "      <th>date</th>\n",
              "      <th></th>\n",
              "    </tr>\n",
              "  </thead>\n",
              "  <tbody>\n",
              "    <tr>\n",
              "      <th>01/01/2012</th>\n",
              "      <td>80.833333</td>\n",
              "    </tr>\n",
              "    <tr>\n",
              "      <th>01/01/2013</th>\n",
              "      <td>95.438596</td>\n",
              "    </tr>\n",
              "    <tr>\n",
              "      <th>01/01/2014</th>\n",
              "      <td>92.260870</td>\n",
              "    </tr>\n",
              "    <tr>\n",
              "      <th>01/01/2015</th>\n",
              "      <td>85.039370</td>\n",
              "    </tr>\n",
              "    <tr>\n",
              "      <th>01/01/2016</th>\n",
              "      <td>102.916667</td>\n",
              "    </tr>\n",
              "  </tbody>\n",
              "</table>\n",
              "</div>"
            ],
            "text/plain": [
              "            Toy Posted Wait\n",
              "date                       \n",
              "01/01/2012        80.833333\n",
              "01/01/2013        95.438596\n",
              "01/01/2014        92.260870\n",
              "01/01/2015        85.039370\n",
              "01/01/2016       102.916667"
            ]
          },
          "metadata": {
            "tags": []
          },
          "execution_count": 13
        }
      ]
    },
    {
      "cell_type": "code",
      "metadata": {
        "id": "VDmoQrSokF44",
        "colab_type": "code",
        "outputId": "fd65a738-476f-4b5c-c802-60d22765b8ea",
        "colab": {
          "base_uri": "https://localhost:8080/",
          "height": 204
        }
      },
      "source": [
        "combined = pd.concat([data, ride1, ride2, ride3, ride4], axis = 1)\n",
        "combined = combined.drop(columns=['Day of Week', 'Month', 'Year', 'Season'])\n",
        "\n",
        "combined.head()\n"
      ],
      "execution_count": 0,
      "outputs": [
        {
          "output_type": "execute_result",
          "data": {
            "text/html": [
              "<div>\n",
              "<style scoped>\n",
              "    .dataframe tbody tr th:only-of-type {\n",
              "        vertical-align: middle;\n",
              "    }\n",
              "\n",
              "    .dataframe tbody tr th {\n",
              "        vertical-align: top;\n",
              "    }\n",
              "\n",
              "    .dataframe thead th {\n",
              "        text-align: right;\n",
              "    }\n",
              "</style>\n",
              "<table border=\"1\" class=\"dataframe\">\n",
              "  <thead>\n",
              "    <tr style=\"text-align: right;\">\n",
              "      <th></th>\n",
              "      <th>Disney Season</th>\n",
              "      <th>Toy Posted Wait</th>\n",
              "      <th>Soarin Posted Wait</th>\n",
              "      <th>Rockin Posted Wait</th>\n",
              "      <th>Everest Posted Wait</th>\n",
              "    </tr>\n",
              "  </thead>\n",
              "  <tbody>\n",
              "    <tr>\n",
              "      <th>01/01/2012</th>\n",
              "      <td>CHRISTMAS PEAK</td>\n",
              "      <td>80.833333</td>\n",
              "      <td>69.000000</td>\n",
              "      <td>56.666667</td>\n",
              "      <td>30.172414</td>\n",
              "    </tr>\n",
              "    <tr>\n",
              "      <th>01/01/2013</th>\n",
              "      <td>CHRISTMAS PEAK</td>\n",
              "      <td>95.438596</td>\n",
              "      <td>97.333333</td>\n",
              "      <td>81.507937</td>\n",
              "      <td>44.855072</td>\n",
              "    </tr>\n",
              "    <tr>\n",
              "      <th>01/01/2014</th>\n",
              "      <td>CHRISTMAS PEAK</td>\n",
              "      <td>92.260870</td>\n",
              "      <td>102.079208</td>\n",
              "      <td>69.861111</td>\n",
              "      <td>34.388889</td>\n",
              "    </tr>\n",
              "    <tr>\n",
              "      <th>01/01/2015</th>\n",
              "      <td>CHRISTMAS PEAK</td>\n",
              "      <td>85.039370</td>\n",
              "      <td>89.814815</td>\n",
              "      <td>74.717742</td>\n",
              "      <td>40.268817</td>\n",
              "    </tr>\n",
              "    <tr>\n",
              "      <th>01/01/2016</th>\n",
              "      <td>CHRISTMAS PEAK</td>\n",
              "      <td>102.916667</td>\n",
              "      <td>69.746377</td>\n",
              "      <td>77.500000</td>\n",
              "      <td>40.000000</td>\n",
              "    </tr>\n",
              "  </tbody>\n",
              "</table>\n",
              "</div>"
            ],
            "text/plain": [
              "             Disney Season  ...  Everest Posted Wait\n",
              "01/01/2012  CHRISTMAS PEAK  ...            30.172414\n",
              "01/01/2013  CHRISTMAS PEAK  ...            44.855072\n",
              "01/01/2014  CHRISTMAS PEAK  ...            34.388889\n",
              "01/01/2015  CHRISTMAS PEAK  ...            40.268817\n",
              "01/01/2016  CHRISTMAS PEAK  ...            40.000000\n",
              "\n",
              "[5 rows x 5 columns]"
            ]
          },
          "metadata": {
            "tags": []
          },
          "execution_count": 14
        }
      ]
    },
    {
      "cell_type": "code",
      "metadata": {
        "id": "Gj03HBEqEF_A",
        "colab_type": "code",
        "outputId": "c40280d8-d01b-4112-d600-9a10171698b4",
        "colab": {
          "base_uri": "https://localhost:8080/",
          "height": 576
        }
      },
      "source": [
        "grouped = combined.groupby(['Disney Season'],as_index=False).mean()\n",
        "\n",
        "\n",
        "grouped"
      ],
      "execution_count": 0,
      "outputs": [
        {
          "output_type": "execute_result",
          "data": {
            "text/html": [
              "<div>\n",
              "<style scoped>\n",
              "    .dataframe tbody tr th:only-of-type {\n",
              "        vertical-align: middle;\n",
              "    }\n",
              "\n",
              "    .dataframe tbody tr th {\n",
              "        vertical-align: top;\n",
              "    }\n",
              "\n",
              "    .dataframe thead th {\n",
              "        text-align: right;\n",
              "    }\n",
              "</style>\n",
              "<table border=\"1\" class=\"dataframe\">\n",
              "  <thead>\n",
              "    <tr style=\"text-align: right;\">\n",
              "      <th></th>\n",
              "      <th>Disney Season</th>\n",
              "      <th>Toy Posted Wait</th>\n",
              "      <th>Soarin Posted Wait</th>\n",
              "      <th>Rockin Posted Wait</th>\n",
              "      <th>Everest Posted Wait</th>\n",
              "    </tr>\n",
              "  </thead>\n",
              "  <tbody>\n",
              "    <tr>\n",
              "      <th>0</th>\n",
              "      <td>CHRISTMAS</td>\n",
              "      <td>79.686275</td>\n",
              "      <td>67.865574</td>\n",
              "      <td>70.031685</td>\n",
              "      <td>37.721597</td>\n",
              "    </tr>\n",
              "    <tr>\n",
              "      <th>1</th>\n",
              "      <td>CHRISTMAS PEAK</td>\n",
              "      <td>101.752765</td>\n",
              "      <td>101.878910</td>\n",
              "      <td>99.750721</td>\n",
              "      <td>52.206875</td>\n",
              "    </tr>\n",
              "    <tr>\n",
              "      <th>2</th>\n",
              "      <td>COLUMBUS DAY</td>\n",
              "      <td>75.127601</td>\n",
              "      <td>60.904355</td>\n",
              "      <td>65.642071</td>\n",
              "      <td>34.418854</td>\n",
              "    </tr>\n",
              "    <tr>\n",
              "      <th>3</th>\n",
              "      <td>EASTER</td>\n",
              "      <td>82.001364</td>\n",
              "      <td>74.257593</td>\n",
              "      <td>69.366005</td>\n",
              "      <td>39.551484</td>\n",
              "    </tr>\n",
              "    <tr>\n",
              "      <th>4</th>\n",
              "      <td>FALL</td>\n",
              "      <td>58.191181</td>\n",
              "      <td>46.251502</td>\n",
              "      <td>45.255645</td>\n",
              "      <td>21.867321</td>\n",
              "    </tr>\n",
              "    <tr>\n",
              "      <th>5</th>\n",
              "      <td>HALLOWEEN</td>\n",
              "      <td>50.984957</td>\n",
              "      <td>41.146964</td>\n",
              "      <td>40.677615</td>\n",
              "      <td>21.606707</td>\n",
              "    </tr>\n",
              "    <tr>\n",
              "      <th>6</th>\n",
              "      <td>JERSEY WEEK</td>\n",
              "      <td>66.702834</td>\n",
              "      <td>55.748850</td>\n",
              "      <td>48.211198</td>\n",
              "      <td>26.692941</td>\n",
              "    </tr>\n",
              "    <tr>\n",
              "      <th>7</th>\n",
              "      <td>JULY 4TH</td>\n",
              "      <td>63.551803</td>\n",
              "      <td>58.836116</td>\n",
              "      <td>62.689654</td>\n",
              "      <td>31.924894</td>\n",
              "    </tr>\n",
              "    <tr>\n",
              "      <th>8</th>\n",
              "      <td>M.L.K. DAY</td>\n",
              "      <td>67.402041</td>\n",
              "      <td>54.360639</td>\n",
              "      <td>53.334111</td>\n",
              "      <td>29.014714</td>\n",
              "    </tr>\n",
              "    <tr>\n",
              "      <th>9</th>\n",
              "      <td>MARDI GRAS</td>\n",
              "      <td>85.091394</td>\n",
              "      <td>63.639552</td>\n",
              "      <td>72.408834</td>\n",
              "      <td>36.899025</td>\n",
              "    </tr>\n",
              "    <tr>\n",
              "      <th>10</th>\n",
              "      <td>MEMORIAL DAY</td>\n",
              "      <td>77.702104</td>\n",
              "      <td>81.571530</td>\n",
              "      <td>72.776840</td>\n",
              "      <td>36.088765</td>\n",
              "    </tr>\n",
              "    <tr>\n",
              "      <th>11</th>\n",
              "      <td>PRESIDENTS WEEK</td>\n",
              "      <td>80.395084</td>\n",
              "      <td>65.354676</td>\n",
              "      <td>64.851465</td>\n",
              "      <td>34.274126</td>\n",
              "    </tr>\n",
              "    <tr>\n",
              "      <th>12</th>\n",
              "      <td>SEPTEMBER LOW</td>\n",
              "      <td>50.663137</td>\n",
              "      <td>36.416149</td>\n",
              "      <td>37.206896</td>\n",
              "      <td>18.629815</td>\n",
              "    </tr>\n",
              "    <tr>\n",
              "      <th>13</th>\n",
              "      <td>SPRING</td>\n",
              "      <td>64.065161</td>\n",
              "      <td>57.909207</td>\n",
              "      <td>55.968213</td>\n",
              "      <td>30.447706</td>\n",
              "    </tr>\n",
              "    <tr>\n",
              "      <th>14</th>\n",
              "      <td>SUMMER BREAK</td>\n",
              "      <td>65.459372</td>\n",
              "      <td>55.782173</td>\n",
              "      <td>59.532095</td>\n",
              "      <td>31.992648</td>\n",
              "    </tr>\n",
              "    <tr>\n",
              "      <th>15</th>\n",
              "      <td>THANKSGIVING</td>\n",
              "      <td>79.097395</td>\n",
              "      <td>68.644237</td>\n",
              "      <td>66.044719</td>\n",
              "      <td>36.446675</td>\n",
              "    </tr>\n",
              "    <tr>\n",
              "      <th>16</th>\n",
              "      <td>WINTER</td>\n",
              "      <td>61.391055</td>\n",
              "      <td>46.735773</td>\n",
              "      <td>46.350379</td>\n",
              "      <td>24.359231</td>\n",
              "    </tr>\n",
              "  </tbody>\n",
              "</table>\n",
              "</div>"
            ],
            "text/plain": [
              "      Disney Season  Toy Posted Wait  ...  Rockin Posted Wait  Everest Posted Wait\n",
              "0         CHRISTMAS        79.686275  ...           70.031685            37.721597\n",
              "1    CHRISTMAS PEAK       101.752765  ...           99.750721            52.206875\n",
              "2      COLUMBUS DAY        75.127601  ...           65.642071            34.418854\n",
              "3            EASTER        82.001364  ...           69.366005            39.551484\n",
              "4              FALL        58.191181  ...           45.255645            21.867321\n",
              "5         HALLOWEEN        50.984957  ...           40.677615            21.606707\n",
              "6       JERSEY WEEK        66.702834  ...           48.211198            26.692941\n",
              "7          JULY 4TH        63.551803  ...           62.689654            31.924894\n",
              "8        M.L.K. DAY        67.402041  ...           53.334111            29.014714\n",
              "9        MARDI GRAS        85.091394  ...           72.408834            36.899025\n",
              "10     MEMORIAL DAY        77.702104  ...           72.776840            36.088765\n",
              "11  PRESIDENTS WEEK        80.395084  ...           64.851465            34.274126\n",
              "12    SEPTEMBER LOW        50.663137  ...           37.206896            18.629815\n",
              "13           SPRING        64.065161  ...           55.968213            30.447706\n",
              "14     SUMMER BREAK        65.459372  ...           59.532095            31.992648\n",
              "15     THANKSGIVING        79.097395  ...           66.044719            36.446675\n",
              "16           WINTER        61.391055  ...           46.350379            24.359231\n",
              "\n",
              "[17 rows x 5 columns]"
            ]
          },
          "metadata": {
            "tags": []
          },
          "execution_count": 15
        }
      ]
    },
    {
      "cell_type": "code",
      "metadata": {
        "id": "NkxBbp-PD2z0",
        "colab_type": "code",
        "outputId": "eb505b9f-6c5b-465f-8b7f-57ec87c907e7",
        "colab": {
          "base_uri": "https://localhost:8080/",
          "height": 331
        }
      },
      "source": [
        "# Plot Toy Story wait times \n",
        "\n",
        "fig, ax = plt.subplots()\n",
        "\n",
        "bar_width = 0.6\n",
        "\n",
        "opacity = 0.9\n",
        "error_config = {'ecolor': '0.3'}\n",
        "\n",
        "rects1 = ax.bar(grouped['Disney Season'], grouped['Toy Posted Wait'], bar_width,\n",
        "                alpha=opacity, color='gold')\n",
        "\n",
        "plt.xticks(rotation=75)\n",
        "\n",
        "ax.set_xlabel('Disney Season')\n",
        "ax.set_ylabel('Average Posted Wait in minutes')\n",
        "ax.set_title('Toy Story Average Posted Wait Times by Season')\n",
        "ax.legend()\n",
        "\n",
        "fig.tight_layout()\n",
        "plt.show()\n",
        "plt.savefig('Toy Story Wait Times')"
      ],
      "execution_count": 0,
      "outputs": [
        {
          "output_type": "stream",
          "text": [
            "No handles with labels found to put in legend.\n"
          ],
          "name": "stderr"
        },
        {
          "output_type": "display_data",
          "data": {
            "image/png": "[encoded data removed]",
            "text/plain": [
              "<Figure size 432x288 with 1 Axes>"
            ]
          },
          "metadata": {
            "tags": []
          }
        },
        {
          "output_type": "display_data",
          "data": {
            "text/plain": [
              "<Figure size 432x288 with 0 Axes>"
            ]
          },
          "metadata": {
            "tags": []
          }
        }
      ]
    },
    {
      "cell_type": "code",
      "metadata": {
        "id": "z59DQP_SXmXR",
        "colab_type": "code",
        "outputId": "ef163fd2-3b67-4288-ed06-35e04755ed69",
        "colab": {
          "base_uri": "https://localhost:8080/",
          "height": 331
        }
      },
      "source": [
        "# Plot Soarin wait times\n",
        "\n",
        "fig, ax = plt.subplots()\n",
        "\n",
        "bar_width = 0.6\n",
        "\n",
        "opacity = 0.6\n",
        "error_config = {'ecolor': '0.3'}\n",
        "\n",
        "rects1 = ax.bar(grouped['Disney Season'], grouped['Soarin Posted Wait'], bar_width,\n",
        "                alpha=opacity, color='b')\n",
        "\n",
        "plt.xticks(rotation=75)\n",
        "\n",
        "ax.set_xlabel('Disney Season')\n",
        "ax.set_ylabel('Average Posted Wait in minutes')\n",
        "ax.set_title('Soarin Average Posted Wait Times by Season')\n",
        "ax.legend()\n",
        "\n",
        "fig.tight_layout()\n",
        "plt.show()\n",
        "plt.savefig('Soarin Wait Times.png')"
      ],
      "execution_count": 0,
      "outputs": [
        {
          "output_type": "stream",
          "text": [
            "No handles with labels found to put in legend.\n"
          ],
          "name": "stderr"
        },
        {
          "output_type": "display_data",
          "data": {
            "image/png": "[encoded data removed]",
            "text/plain": [
              "<Figure size 432x288 with 1 Axes>"
            ]
          },
          "metadata": {
            "tags": []
          }
        },
        {
          "output_type": "display_data",
          "data": {
            "text/plain": [
              "<Figure size 432x288 with 0 Axes>"
            ]
          },
          "metadata": {
            "tags": []
          }
        }
      ]
    },
    {
      "cell_type": "code",
      "metadata": {
        "id": "mBo8X34yYKD3",
        "colab_type": "code",
        "outputId": "b1e1e205-6c3c-4477-d75a-f39e056b3406",
        "colab": {
          "base_uri": "https://localhost:8080/",
          "height": 331
        }
      },
      "source": [
        "# Plot Expedition Everest posted wait \n",
        "\n",
        "fig, ax = plt.subplots()\n",
        "\n",
        "bar_width = 0.6\n",
        "\n",
        "opacity = 0.9\n",
        "error_config = {'ecolor': '0.3'}\n",
        "\n",
        "rects1 = ax.bar(grouped['Disney Season'], grouped['Everest Posted Wait'], bar_width,\n",
        "                alpha=opacity, color='teal')\n",
        "\n",
        "plt.xticks(rotation=75)\n",
        "\n",
        "ax.set_xlabel('Disney Season')\n",
        "ax.set_ylabel('Average Posted Wait in minutes')\n",
        "ax.set_title('Expedition Everest Average Posted Wait Times by Season')\n",
        "ax.legend()\n",
        "\n",
        "fig.tight_layout()\n",
        "plt.show()\n",
        "plt.savefig('Everest Wait Times.png')"
      ],
      "execution_count": 0,
      "outputs": [
        {
          "output_type": "stream",
          "text": [
            "No handles with labels found to put in legend.\n"
          ],
          "name": "stderr"
        },
        {
          "output_type": "display_data",
          "data": {
            "image/png": "[encoded data removed]",
            "text/plain": [
              "<Figure size 432x288 with 1 Axes>"
            ]
          },
          "metadata": {
            "tags": []
          }
        },
        {
          "output_type": "display_data",
          "data": {
            "text/plain": [
              "<Figure size 432x288 with 0 Axes>"
            ]
          },
          "metadata": {
            "tags": []
          }
        }
      ]
    },
    {
      "cell_type": "code",
      "metadata": {
        "id": "boG7qwJPX3Za",
        "colab_type": "code",
        "outputId": "a299c0b3-31c9-46fc-aca2-5f0d516bcbcb",
        "colab": {
          "base_uri": "https://localhost:8080/",
          "height": 331
        }
      },
      "source": [
        "# Plot Rockin' Rollar Coaster wait times\n",
        "\n",
        "fig, ax = plt.subplots()\n",
        "\n",
        "bar_width = 0.6\n",
        "\n",
        "opacity = 0.8\n",
        "error_config = {'ecolor': '0.3'}\n",
        "\n",
        "rects1 = ax.bar(grouped['Disney Season'], grouped['Rockin Posted Wait'], bar_width,\n",
        "                alpha=opacity, color='r')\n",
        "\n",
        "plt.xticks(rotation=75)\n",
        "\n",
        "ax.set_xlabel('Disney Season')\n",
        "ax.set_ylabel('Average Posted Wait in minutes')\n",
        "ax.set_title('Rockin\\' Rollar Coaster Average Posted Wait Times by Season')\n",
        "ax.legend()\n",
        "\n",
        "fig.tight_layout()\n",
        "plt.show()\n",
        "plt.savefig('Rockin Wait Times')"
      ],
      "execution_count": 0,
      "outputs": [
        {
          "output_type": "stream",
          "text": [
            "No handles with labels found to put in legend.\n"
          ],
          "name": "stderr"
        },
        {
          "output_type": "display_data",
          "data": {
            "image/png": "[encoded data removed]",
            "text/plain": [
              "<Figure size 432x288 with 1 Axes>"
            ]
          },
          "metadata": {
            "tags": []
          }
        },
        {
          "output_type": "display_data",
          "data": {
            "text/plain": [
              "<Figure size 432x288 with 0 Axes>"
            ]
          },
          "metadata": {
            "tags": []
          }
        }
      ]
    },
    {
      "cell_type": "code",
      "metadata": {
        "id": "Ue8aEWI4K5G8",
        "colab_type": "code",
        "outputId": "723ac9a4-819b-432d-b604-376820920954",
        "colab": {
          "base_uri": "https://localhost:8080/",
          "height": 329
        }
      },
      "source": [
        "# in order for ax. to show up\n",
        "fig, ax = plt.subplots()\n",
        "\n",
        "# the plot\n",
        "grouped.boxplot(['Toy Posted Wait', 'Soarin Posted Wait', 'Everest Posted Wait', 'Rockin Posted Wait'])\n",
        "\n",
        "# labels\n",
        "ax.set_xlabel('Disney Ride')\n",
        "ax.set_ylabel('Wait Time in minutes')\n",
        "ax.set_title('Disney Wait Times by Ride')\n",
        "ax.legend()\n",
        "\n"
      ],
      "execution_count": 0,
      "outputs": [
        {
          "output_type": "stream",
          "text": [
            "No handles with labels found to put in legend.\n"
          ],
          "name": "stderr"
        },
        {
          "output_type": "execute_result",
          "data": {
            "text/plain": [
              "<matplotlib.legend.Legend at 0x7f8f682966a0>"
            ]
          },
          "metadata": {
            "tags": []
          },
          "execution_count": 20
        },
        {
          "output_type": "display_data",
          "data": {
            "image/png": "[encoded data removed]",
            "text/plain": [
              "<Figure size 432x288 with 1 Axes>"
            ]
          },
          "metadata": {
            "tags": []
          }
        }
      ]
    },
    {
      "cell_type": "code",
      "metadata": {
        "id": "RWH1StM7S7Mp",
        "colab_type": "code",
        "outputId": "467a8b3a-75f3-44b5-c3ec-eed5b260b40a",
        "colab": {
          "base_uri": "https://localhost:8080/",
          "height": 383
        }
      },
      "source": [
        "from itertools import cycle, islice\n",
        "my_colors = list(islice(cycle(['r', 'b', 'gold', 'green']), None, len(grouped)))\n",
        "\n",
        "opacity = 0.8\n",
        "ax = grouped.set_index('Disney Season').plot(kind='bar', width = 0.7, color = my_colors, alpha = opacity)\n",
        "\n",
        "plt.xticks(rotation=75)\n",
        "\n",
        "bar_width = 7\n",
        "\n",
        "ax.set_title('Disney Wait Times by Season')\n",
        "ax.set_xlabel(\"Disney Season\", fontsize=14)\n",
        "ax.set_ylabel('Wait Time in minutes', fontsize=14)\n",
        "plt.show()\n"
      ],
      "execution_count": 0,
      "outputs": [
        {
          "output_type": "display_data",
          "data": {
            "image/png": "[encoded data removed]",
            "text/plain": [
              "<Figure size 432x288 with 1 Axes>"
            ]
          },
          "metadata": {
            "tags": []
          }
        }
      ]
    },
    {
      "cell_type": "markdown",
      "metadata": {
        "id": "BY8lwqbFbTH1",
        "colab_type": "text"
      },
      "source": [
        "# **Everything below this is not needed**"
      ]
    },
    {
      "cell_type": "code",
      "metadata": {
        "id": "52jF-p1BlKmm",
        "colab_type": "code",
        "colab": {}
      },
      "source": [
        "# create working data \n",
        "seasons = data2[['Date', 'Disney Season', 'Soar Posted Wait', 'Toy Posted Wait', 'Rockin Posted Wait', 'Everest Posted Wait']]\n",
        "seasons.head()"
      ],
      "execution_count": 0,
      "outputs": []
    },
    {
      "cell_type": "code",
      "metadata": {
        "id": "UZ1WCAz9lrKE",
        "colab_type": "code",
        "colab": {}
      },
      "source": [
        "plt.b\n",
        "\n",
        "#sorting 'seasons' by Disney Season\n",
        "seasons2 = seasons.sort_values(by = ['Disney Season'], ascending = True)\n",
        "seasons2.iloc[600:604]\n"
      ],
      "execution_count": 0,
      "outputs": []
    },
    {
      "cell_type": "code",
      "metadata": {
        "id": "lHqn0SMlr648",
        "colab_type": "code",
        "colab": {}
      },
      "source": [
        "# Setting -999.0 equal to NaN, dropping all rows including NaN\n",
        "\n",
        "seasons2 = seasons2.replace(-999.0, np.nan).dropna()\n",
        "seasons2.iloc[0:5]\n",
        "\n",
        "\n"
      ],
      "execution_count": 0,
      "outputs": []
    },
    {
      "cell_type": "code",
      "metadata": {
        "id": "TUX5JFD9v7hX",
        "colab_type": "code",
        "colab": {}
      },
      "source": [
        "soar_work = seasons2[['Disney Season', 'Soar Posted Wait']]\n",
        "soar_work.head()"
      ],
      "execution_count": 0,
      "outputs": []
    },
    {
      "cell_type": "code",
      "metadata": {
        "id": "SBJWErkZwVa6",
        "colab_type": "code",
        "colab": {}
      },
      "source": [
        "# Slicing Soarin by season\n",
        "soar_christmas = seasons2[0:84]\n",
        "soar_christmas_peak = seasons2[84:102]\n",
        "soar_winter = seasons2[1589:1811]\n",
        "soar_spring = seasons2[813:1300]\n",
        "soar_summer_break = seasons2[1300:1532]\n",
        "soar_fall = seasons2[223:442]\n",
        "soar_easter = seasons2[123:223]\n",
        "soar_july_4th = seasons2[496:523]\n",
        "soar_september_low = seasons2[663:813]"
      ],
      "execution_count": 0,
      "outputs": []
    },
    {
      "cell_type": "code",
      "metadata": {
        "id": "A7wjZYyyxOmH",
        "colab_type": "code",
        "colab": {}
      },
      "source": [
        "# Slicing Toy Story by season\n",
        "toy_christmas = seasons2[0:84]\n",
        "toy_christmas_peak = seasons2[84:102]\n",
        "toy_winter = seasons2[1589:1811]\n",
        "toy_spring = seasons2[813:1300]\n",
        "toy_summer_break = seasons2[1300:1532]\n",
        "toy_fall = seasons2[223:442]\n",
        "toy_easter = seasons2[123:223]\n",
        "toy_july_4th = seasons2[496:523]\n",
        "toy_september_low = seasons2[663:813]"
      ],
      "execution_count": 0,
      "outputs": []
    },
    {
      "cell_type": "code",
      "metadata": {
        "id": "Vr2CHJkpyEHq",
        "colab_type": "code",
        "colab": {}
      },
      "source": [
        "# Slicing Rockin by season\n",
        "rockin_christmas = seasons2[0:84]\n",
        "rockin_christmas_peak = seasons2[84:102]\n",
        "rockin_winter = seasons2[1589:1811]\n",
        "rockin_spring = seasons2[813:1300]\n",
        "rockin_summer_break = seasons2[1300:1532]\n",
        "rockin_fall = seasons2[223:442]\n",
        "rockin_easter = seasons2[123:223]\n",
        "rockin_july_4th = seasons2[496:523]\n",
        "rockin_september_low = seasons2[663:813]"
      ],
      "execution_count": 0,
      "outputs": []
    },
    {
      "cell_type": "code",
      "metadata": {
        "id": "a_UGVIhoyn9F",
        "colab_type": "code",
        "colab": {}
      },
      "source": [
        "# Slicing Everest by season\n",
        "everest_christmas = seasons2[0:84]\n",
        "everest_christmas_peak = seasons2[84:102]\n",
        "everest_winter = seasons2[1589:1811]\n",
        "everest_spring = seasons2[813:1300]\n",
        "everest_summer_break = seasons2[1300:1532]\n",
        "everest_fall = seasons2[223:442]\n",
        "everest_easter = seasons2[123:223]\n",
        "everest_july_4th = seasons2[496:523]\n",
        "everest_september_low = seasons2[663:813]"
      ],
      "execution_count": 0,
      "outputs": []
    },
    {
      "cell_type": "code",
      "metadata": {
        "id": "u0QmAirzzz1E",
        "colab_type": "code",
        "colab": {}
      },
      "source": [
        "# Export Dataframe into Excel\n",
        "\n",
        "seasons2.to_csv('seasons.csv', sep=',')\n",
        "\n"
      ],
      "execution_count": 0,
      "outputs": []
    },
    {
      "cell_type": "code",
      "metadata": {
        "id": "9Dkt6Cor-frB",
        "colab_type": "code",
        "colab": {}
      },
      "source": [
        "#Slicing 'Seasons2'into their own dataframes\n",
        "christmas = seasons2[0:84]\n",
        "christmas_peak = seasons2[84:102]\n",
        "winter = seasons2[1589:1811]\n",
        "spring = seasons2[813:1300]\n",
        "summer_break = seasons2[1300:1532]\n",
        "fall = seasons2[223:442]\n",
        "easter = seasons2[123:223]\n",
        "july_4th = seasons2[496:523]\n",
        "september_low = seasons2[663:813]\n",
        "\n"
      ],
      "execution_count": 0,
      "outputs": []
    },
    {
      "cell_type": "markdown",
      "metadata": {
        "id": "Q_TeHxNQni54",
        "colab_type": "text"
      },
      "source": [
        "# **AVERAGE WAIT TIMES**"
      ]
    },
    {
      "cell_type": "code",
      "metadata": {
        "id": "7IH4NBsiQMR_",
        "colab_type": "code",
        "colab": {}
      },
      "source": [
        "# average wait times of Soarin by Season\n",
        "\n",
        "print('Soarin - Christmas Average Wait Time: \\t', soar_christmas['Soar Posted Wait'].mean())\n",
        "print('Soarin - Christmas-Peak Average Wait Time: \\t', soar_christmas_peak['Soar Posted Wait'].mean())\n",
        "print('Soarin - Winter Average Wait Time: \\t', soar_winter['Soar Posted Wait'].mean())\n",
        "print('Soarin - Spring Average Wait Time: \\t', soar_spring['Soar Posted Wait'].mean())\n",
        "print('Soarin - Summer-Break Average Wait Time: \\t', soar_summer_break['Soar Posted Wait'].mean())\n",
        "print('Soarin - Fall Average Wait Time: \\t', soar_fall['Soar Posted Wait'].mean())\n",
        "print('Soarin - Easter Average Wait Time: \\t', soar_easter['Soar Posted Wait'].mean())\n",
        "print('Soarin - July 4th Average Wait Time: \\t', soar_july_4th['Soar Posted Wait'].mean())\n",
        "print('Soarin - September-Low Average Wait Time: \\t', soar_september_low['Soar Posted Wait'].mean())"
      ],
      "execution_count": 0,
      "outputs": []
    },
    {
      "cell_type": "code",
      "metadata": {
        "id": "Q12TaqZRkINT",
        "colab_type": "code",
        "colab": {}
      },
      "source": [
        "# average wait time of Toy Story by season\n",
        "\n",
        "print('Toy Story - Christmas Average Wait Time: \\t', toy_christmas['Toy Posted Wait'].mean())\n",
        "print('Toy Story - Christmas-Peak Average Wait Time: \\t', toy_christmas_peak['Toy Posted Wait'].mean())\n",
        "print('Toy Story - Winter Average Wait Time: \\t', toy_winter['Toy Posted Wait'].mean())\n",
        "print('Toy Story - Spring Average Wait Time: \\t', toy_spring['Toy Posted Wait'].mean())\n",
        "print('Toy Story - Summer-Break Average Wait Time: \\t', toy_summer_break['Toy Posted Wait'].mean())\n",
        "print('Toy Story - Fall Average Wait Time: \\t', toy_fall['Toy Posted Wait'].mean())\n",
        "print('Toy Story - Easter Average Wait Time: \\t', toy_easter['Toy Posted Wait'].mean())\n",
        "print('Toy Story - July 4th Average Wait Time: \\t', toy_july_4th['Toy Posted Wait'].mean())\n",
        "print('Toy Story - September-Low Average Wait Time: \\t', toy_september_low['Toy Posted Wait'].mean())"
      ],
      "execution_count": 0,
      "outputs": []
    },
    {
      "cell_type": "code",
      "metadata": {
        "id": "prdJmIxXmtki",
        "colab_type": "code",
        "colab": {}
      },
      "source": [
        "# average wait time of Rockin Rollar Coaster by season\n",
        "\n",
        "print('Rockin\\' Rollar Coaster - Christmas Average Wait Time: \\t', rockin_christmas['Rockin Posted Wait'].mean())\n",
        "print('Rockin\\' Rollar Coaster - Christmas-Peak Average Wait Time: \\t', rockin_christmas_peak['Rockin Posted Wait'].mean())\n",
        "print('Rockin\\' Rollar Coaster - Winter Average Wait Time: \\t', rockin_winter['Rockin Posted Wait'].mean())\n",
        "print('Rockin\\' Rollar Coaster - Spring Average Wait Time: \\t', rockin_spring['Rockin Posted Wait'].mean())\n",
        "print('Rockin\\' Rollar Coaster - Summer-Break Average Wait Time: \\t', rockin_summer_break['Rockin Posted Wait'].mean())\n",
        "print('Rockin\\' Rollar Coaster - Fall Average Wait Time: \\t', rockin_fall['Rockin Posted Wait'].mean())\n",
        "print('Rockin\\' Rollar Coaster - Easter Average Wait Time: \\t', rockin_easter['Rockin Posted Wait'].mean())\n",
        "print('Rockin\\' Rollar Coaster - July 4th Average Wait Time: \\t', rockin_july_4th['Rockin Posted Wait'].mean())\n",
        "print('Rockin\\' Rollar Coaster - September-Low Average Wait Time: \\t', rockin_september_low['Rockin Posted Wait'].mean())"
      ],
      "execution_count": 0,
      "outputs": []
    },
    {
      "cell_type": "code",
      "metadata": {
        "id": "c0GVznBAnYZj",
        "colab_type": "code",
        "colab": {}
      },
      "source": [
        "# average wait times of Expedition Everest by season\n",
        "\n",
        "print('Expedition Everest - Christmas Average Wait Time: \\t', everest_christmas['Everest Posted Wait'].mean())\n",
        "print('Expedition Everest - Christmas-Peak Average Wait Time: \\t', everest_christmas_peak['Everest Posted Wait'].mean())\n",
        "print('Expedition Everest - Winter Average Wait Time: \\t', everest_winter['Everest Posted Wait'].mean())\n",
        "print('Expedition Everest - Spring Average Wait Time: \\t', everest_spring['Everest Posted Wait'].mean())\n",
        "print('Expedition Everest - Summer-Break Average Wait Time: \\t', everest_summer_break['Everest Posted Wait'].mean())\n",
        "print('Expedition Everest - Fall Average Wait Time: \\t', everest_fall['Everest Posted Wait'].mean())\n",
        "print('Expedition Everest - Easter Average Wait Time: \\t', everest_easter['Everest Posted Wait'].mean())\n",
        "print('Expedition Everest - July 4th Average Wait Time: \\t', everest_july_4th['Everest Posted Wait'].mean())\n",
        "print('Expedition Everest - September-Low Average Wait Time: \\t', everest_september_low['Everest Posted Wait'].mean())"
      ],
      "execution_count": 0,
      "outputs": []
    },
    {
      "cell_type": "code",
      "metadata": {
        "id": "-YbIT4HvqI1-",
        "colab_type": "code",
        "colab": {}
      },
      "source": [
        "everest_christmas['Everest Posted Wait']"
      ],
      "execution_count": 0,
      "outputs": []
    },
    {
      "cell_type": "code",
      "metadata": {
        "id": "2S4vpi6q0y-n",
        "colab_type": "code",
        "colab": {}
      },
      "source": [
        ""
      ],
      "execution_count": 0,
      "outputs": []
    }
  ]
}